{
 "cells": [
  {
   "cell_type": "code",
   "execution_count": 6,
   "metadata": {},
   "outputs": [],
   "source": [
    "from langchain_community.llms import Ollama\n",
    "from langchain_community.document_loaders import PyMuPDFLoader\n",
    "from langchain_ollama import OllamaLLM\n",
    "from langchain_ollama import ChatOllama"
   ]
  },
  {
   "cell_type": "code",
   "execution_count": 11,
   "metadata": {},
   "outputs": [
    {
     "name": "stdout",
     "output_type": "stream",
     "text": [
      "content=\"Hello! I'm happy to chat with you. As a conversational AI, my purpose is to understand and respond to your questions, thoughts, or topics you'd like to discuss. I don't have any specific needs per se, but I can help with:\\n\\n1. Answering questions: If you're stuck on something, feel free to ask me anything, from science and history to language and culture.\\n2. Brainstorming ideas: Want to generate some creative ideas or explore different perspectives? I'm here to help!\\n3. Language practice: If you're learning a new language or want to improve your writing skills, we can have a conversation or exchange texts.\\n4. Emotional support: Sometimes all we need is someone to listen. I'm here for that too!\\n\\nWhat's on your mind today? Do you have a specific topic or question in mind, or would you like me to suggest some conversation starters?\" additional_kwargs={} response_metadata={'model': 'llama3', 'created_at': '2025-02-22T18:58:00.481977Z', 'done': True, 'done_reason': 'stop', 'total_duration': 560318118900, 'load_duration': 84859700, 'prompt_eval_count': 17, 'prompt_eval_duration': 13617000000, 'eval_count': 186, 'eval_duration': 546601000000, 'message': Message(role='assistant', content='', images=None, tool_calls=None)} id='run-ca61ddb3-eaa5-474e-a19e-deb88072c349-0' usage_metadata={'input_tokens': 17, 'output_tokens': 186, 'total_tokens': 203}\n"
     ]
    }
   ],
   "source": [
    "#Cargamos la IA Ollama con langchain\n",
    "from langchain_ollama import ChatOllama\n",
    "\n",
    "# Configuración correcta usando ChatOllama\n",
    "# Asegúrate del nombre del modelo y su compatibilidad.\n",
    "model_name = \"llama3\"  # Verifica si este modelo es compatible\n",
    "\n",
    "try:\n",
    "    llm = ChatOllama(model=model_name)\n",
    "    respuesta = llm.invoke(\"Hi, What do you need?\")\n",
    "    print(respuesta)\n",
    "except Exception as e:\n",
    "    print(f\"Error al invocar el modelo: {e}\")\n"
   ]
  },
  {
   "cell_type": "code",
   "execution_count": 12,
   "metadata": {},
   "outputs": [],
   "source": [
    "loader = PyMuPDFLoader(\"010-25.pdf\")"
   ]
  },
  {
   "cell_type": "code",
   "execution_count": 13,
   "metadata": {},
   "outputs": [],
   "source": [
    "data_pdf = loader.load()"
   ]
  },
  {
   "cell_type": "code",
   "execution_count": null,
   "metadata": {},
   "outputs": [
    {
     "data": {
      "text/plain": [
       "Document(metadata={'producer': 'Skia/PDF m66', 'creator': 'Mozilla/5.0 (Windows NT 10.0; Win64; x64) AppleWebKit/537.36 (KHTML, like Gecko) Chrome/66.0.3359.181 Safari/537.36', 'creationdate': '2018-05-28T13:10:38+00:00', 'source': '010-25.pdf', 'file_path': '010-25.pdf', 'total_pages': 13, 'format': 'PDF 1.4', 'title': '', 'author': '', 'subject': '', 'keywords': '', 'moddate': '2018-05-28T13:10:38+00:00', 'trapped': '', 'modDate': \"D:20180528131038+00'00'\", 'creationDate': \"D:20180528131038+00'00'\", 'page': 0}, page_content='5/28/2018\\nInsurance 2030--The impact of AI on the future of insurance | McKinsey & Company\\nhttps://www.mckinsey.com/industries/financial-services/our-insights/insurance-2030-the-impact-of-ai-on-the-future-of-insurance\\n1/13\\nArticle\\nApril 2018\\nInsurance 2030—The impact of AI\\non the future of insurance\\nBy Ramnath Balasubramanian, Ari Libarikian, and Doug McElhaney\\nW\\nThe industry is on the verge of a seismic, tech-driven shift. A focus\\non four areas can position carriers to embrace this change.\\nelcome to the future of insurance, as seen through the eyes of Scott, a\\ncustomer in the year 2030. His digital personal assistant orders him an\\nautonomous vehicle for a meeting across town. Upon hopping into the arriving car,\\nScott decides he wants to drive today and moves the car into “active” mode. Scott’s\\npersonal assistant maps out a potential route and shares it with his mobility insurer,\\nwhich immediately responds with an alternate route that has a much lower likelihood\\nof accidents and auto damage as well as the calculated adjustment to his monthly\\npremium. Scott’s assistant notifies him that his mobility insurance premium will\\nincrease by 4 to 8 percent based on the route he selects and the volume and\\ndistribution of other cars on the road. It also alerts him that his life insurance policy,\\nwhich is now priced on a “pay-as-you-live” basis, will increase by 2 percent for this\\nquarter. The additional amounts are automatically debited from his bank account.\\nWhen Scott pulls into his destination’s parking lot, his car bumps into one of several\\nparking signs. As soon as the car stops moving, its internal diagnostics determine the\\nextent of the damage. His personal assistant instructs him to take three pictures of the\\nfront right bumper area and two of the surroundings. By the time Scott gets back to the\\nMcKinsey uses cookies to improve site functionality, provide you with a better browsing experience, and to\\nenable our partners to advertise to you. Detailed information on the use of cookies on this Site, and how\\nyou can decline them, is provided in our cookie policy. By using this Site or clicking on \"OK\", you consent\\nto the use of cookies.\\nOK\\n\\ue604\\nFinancial Services')"
      ]
     },
     "execution_count": 18,
     "metadata": {},
     "output_type": "execute_result"
    }
   ],
   "source": [
    "#cada posicion en un array es una pagina del documento, la [0] es la pag 1\n",
    "data_pdf[0]"
   ]
  },
  {
   "cell_type": "code",
   "execution_count": 19,
   "metadata": {},
   "outputs": [],
   "source": [
    "from langchain.text_splitter import RecursiveCharacterTextSplitter\n",
    "text_splitter = RecursiveCharacterTextSplitter(chunk_size=2000, chunk_overlap=500)\n",
    "docs = text_splitter.split_documents(data_pdf)"
   ]
  },
  {
   "cell_type": "code",
   "execution_count": 22,
   "metadata": {},
   "outputs": [
    {
     "data": {
      "text/plain": [
       "Document(metadata={'producer': 'Skia/PDF m66', 'creator': 'Mozilla/5.0 (Windows NT 10.0; Win64; x64) AppleWebKit/537.36 (KHTML, like Gecko) Chrome/66.0.3359.181 Safari/537.36', 'creationdate': '2018-05-28T13:10:38+00:00', 'source': '010-25.pdf', 'file_path': '010-25.pdf', 'total_pages': 13, 'format': 'PDF 1.4', 'title': '', 'author': '', 'subject': '', 'keywords': '', 'moddate': '2018-05-28T13:10:38+00:00', 'trapped': '', 'modDate': \"D:20180528131038+00'00'\", 'creationDate': \"D:20180528131038+00'00'\", 'page': 2}, page_content='5/28/2018\\nInsurance 2030--The impact of AI on the future of insurance | McKinsey & Company\\nhttps://www.mckinsey.com/industries/financial-services/our-insights/insurance-2030-the-impact-of-ai-on-the-future-of-insurance\\n3/13\\nExhibit 1\\nAs AI becomes more deeply integrated in the industry, carriers must position\\nthemselves to respond to the changing business landscape. Insurance executives must\\nunderstand the factors that will contribute to this change and how AI will reshape\\nclaims, distribution, and underwriting and pricing. With this understanding, they can\\nstart to build the skills and talent, embrace the emerging technologies, and create the\\nculture and perspective needed to be successful players in the insurance industry of\\nthe future.\\nFour AI-related trends shaping insurance\\nAI’s underlying technologies are already being deployed in our businesses, homes, and\\nvehicles, as well as on our person. Four core technology trends, tightly coupled with\\n(and sometimes enabled by) AI, will reshape the insurance industry over the next')"
      ]
     },
     "execution_count": 22,
     "metadata": {},
     "output_type": "execute_result"
    }
   ],
   "source": [
    "#Validamos cada chunk del arreglo que se esta haciendo\n",
    "docs[3]"
   ]
  },
  {
   "cell_type": "code",
   "execution_count": 23,
   "metadata": {},
   "outputs": [
    {
     "data": {
      "text/plain": [
       "Document(metadata={'producer': 'Skia/PDF m66', 'creator': 'Mozilla/5.0 (Windows NT 10.0; Win64; x64) AppleWebKit/537.36 (KHTML, like Gecko) Chrome/66.0.3359.181 Safari/537.36', 'creationdate': '2018-05-28T13:10:38+00:00', 'source': '010-25.pdf', 'file_path': '010-25.pdf', 'total_pages': 13, 'format': 'PDF 1.4', 'title': '', 'author': '', 'subject': '', 'keywords': '', 'moddate': '2018-05-28T13:10:38+00:00', 'trapped': '', 'modDate': \"D:20180528131038+00'00'\", 'creationDate': \"D:20180528131038+00'00'\", 'page': 3}, page_content='5/28/2018\\nInsurance 2030--The impact of AI on the future of insurance | McKinsey & Company\\nhttps://www.mckinsey.com/industries/financial-services/our-insights/insurance-2030-the-impact-of-ai-on-the-future-of-insurance\\n4/13\\ndecade.\\nExplosion of data from connected devices\\nIn industrial settings, equipment with sensors have been omnipresent for some time,\\nbut the coming years will see a huge increase in the number of connected consumer\\ndevices. The penetration of existing devices (such as cars, fitness trackers, home\\nassistants, smartphones, and smart watches) will continue to increase rapidly, joined\\nby new, growing categories such as clothing, eyewear, home appliances, medical\\ndevices, and shoes. The resulting avalanche of new data created by these devices will\\nallow carriers to understand their clients more deeply, resulting in new product\\ncategories, more personalized pricing, and increasingly real-time service delivery. For\\nexample, a wearable that is connected to an actuarial database could calculate a\\nconsumer’s personal risk score based on daily activities as well as the probability and\\nseverity of potential events.\\nIncreased prevalence of physical robotics\\nThe field of robotics has seen many exciting achievements recently, and this\\ninnovation will continue to change how humans interact with the world around them.\\nAdditive manufacturing, also known as 3-D printing, will radically reshape\\nmanufacturing and the commercial insurance products of the future. By 2025, 3-D-\\nprinted buildings will be common, and carriers will need to assess how this\\ndevelopment changes risk assessments. In addition, programmable, autonomous\\ndrones; self-driving cars; autonomous farming equipment; and enhanced surgical\\nrobots will all be commercially viable in the next decade. By 2030, the proportion of\\nautonomous vehicles on the road could exceed 25 percent, having grown from 10\\npercent just four years earlier.  Carriers will need to understand how the increasing')"
      ]
     },
     "execution_count": 23,
     "metadata": {},
     "output_type": "execute_result"
    }
   ],
   "source": [
    "docs[4]"
   ]
  },
  {
   "cell_type": "code",
   "execution_count": null,
   "metadata": {},
   "outputs": [],
   "source": []
  },
  {
   "cell_type": "code",
   "execution_count": null,
   "metadata": {},
   "outputs": [],
   "source": [
    "#Realizamos los embedings\n",
    "#%pip install fastembed\n",
    "from langchain_community.embeddings.fastembed import FastEmbedEmbeddings\n",
    "embed_model = FastEmbedEmbeddings(model_name=\"sentence-transformers/all-MiniLM-L6-v2\")"
   ]
  },
  {
   "cell_type": "code",
   "execution_count": null,
   "metadata": {},
   "outputs": [],
   "source": [
    "# Install chromadb package\n",
    "#%pip install chromadb\n",
    "\n",
    "from langchain_community.vectorstores import Chroma\n",
    "vs = Chroma.from_documents(\n",
    "    documents=docs,\n",
    "    embedding=embed_model,\n",
    "    persist_directory=\"chroma_db_dir\",\n",
    "    collection_name=\"prueba\"\n",
    ")"
   ]
  },
  {
   "cell_type": "code",
   "execution_count": 33,
   "metadata": {},
   "outputs": [
    {
     "name": "stderr",
     "output_type": "stream",
     "text": [
      "C:\\Users\\pipe-\\AppData\\Local\\Temp\\ipykernel_9812\\1666141679.py:1: LangChainDeprecationWarning: The class `Chroma` was deprecated in LangChain 0.2.9 and will be removed in 1.0. An updated version of the class exists in the :class:`~langchain-chroma package and should be used instead. To use it run `pip install -U :class:`~langchain-chroma` and import as `from :class:`~langchain_chroma import Chroma``.\n",
      "  vectorstore = Chroma(\n"
     ]
    }
   ],
   "source": [
    "vectorstore = Chroma(\n",
    "                    embedding_function=embed_model,\n",
    "                    persist_directory=\"chroma_db_dir\",\n",
    "                    collection_name=\"prueba\")\n",
    "retriever = vectorstore.as_retriever(search_kwargs={'k':3})"
   ]
  },
  {
   "cell_type": "code",
   "execution_count": 38,
   "metadata": {},
   "outputs": [],
   "source": [
    "from langchain.prompts import PromptTemplate\n",
    "\n",
    "custom_prompt_template = \"\"\"Usa la siguinete información para responder las preguntas que te hago\n",
    "Si no sabes, di que no lo sabes y no inventes respuesta\n",
    "                            \n",
    "Contexto: {context}\n",
    "Pregunta: {question}\n",
    "\n",
    "Solo devuelve la respuesta útil a continuación y nada más\n",
    "Respuesta útil:\"\"\"\n",
    "prompt = PromptTemplate(template=custom_prompt_template,\n",
    "                        input_variables=['context', 'question'])"
   ]
  },
  {
   "cell_type": "code",
   "execution_count": 39,
   "metadata": {},
   "outputs": [],
   "source": [
    "from langchain.chains import RetrievalQA\n",
    "qa = RetrievalQA.from_chain_type(llm = llm,\n",
    "                                chain_type = \"stuff\",\n",
    "                                retriever = retriever,\n",
    "                                return_source_documents = True,\n",
    "                                chain_type_kwargs = {\"prompt\": prompt})\n"
   ]
  },
  {
   "cell_type": "code",
   "execution_count": 45,
   "metadata": {},
   "outputs": [],
   "source": [
    "response = qa.invoke({\"query\": \"who is the author?\"})"
   ]
  },
  {
   "cell_type": "code",
   "execution_count": 47,
   "metadata": {},
   "outputs": [
    {
     "data": {
      "text/plain": [
       "'La autoría es compartida entre Ramnath Balasubramanian, Ari Libarikian, y Doug McElhaney.'"
      ]
     },
     "execution_count": 47,
     "metadata": {},
     "output_type": "execute_result"
    }
   ],
   "source": [
    "response['result']"
   ]
  }
 ],
 "metadata": {
  "kernelspec": {
   "display_name": "Python 3",
   "language": "python",
   "name": "python3"
  },
  "language_info": {
   "codemirror_mode": {
    "name": "ipython",
    "version": 3
   },
   "file_extension": ".py",
   "mimetype": "text/x-python",
   "name": "python",
   "nbconvert_exporter": "python",
   "pygments_lexer": "ipython3",
   "version": "3.13.1"
  }
 },
 "nbformat": 4,
 "nbformat_minor": 2
}
